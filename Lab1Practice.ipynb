{
  "nbformat": 4,
  "nbformat_minor": 0,
  "metadata": {
    "colab": {
      "name": "Lab1Practice.ipynb",
      "provenance": [],
      "collapsed_sections": [],
      "authorship_tag": "ABX9TyNpZMrUhtvT79cA5UuI9fAO",
      "include_colab_link": true
    },
    "kernelspec": {
      "name": "python3",
      "display_name": "Python 3"
    }
  },
  "cells": [
    {
      "cell_type": "markdown",
      "metadata": {
        "id": "view-in-github",
        "colab_type": "text"
      },
      "source": [
        "<a href=\"https://colab.research.google.com/github/rachel-asd/PracticeWithWebDesign/blob/master/Lab1Practice.ipynb\" target=\"_parent\"><img src=\"https://colab.research.google.com/assets/colab-badge.svg\" alt=\"Open In Colab\"/></a>"
      ]
    },
    {
      "cell_type": "markdown",
      "metadata": {
        "id": "WNPOJpCKvCgL",
        "colab_type": "text"
      },
      "source": [
        "## Do you like using Jupyter Notebooks?"
      ]
    },
    {
      "cell_type": "markdown",
      "metadata": {
        "id": "0b6iSrC3vKAW",
        "colab_type": "text"
      },
      "source": [
        "I like it so far! Everything is being explained pretty well, especially why we are typing the things we are."
      ]
    },
    {
      "cell_type": "markdown",
      "metadata": {
        "id": "Ick2hqZCvQmk",
        "colab_type": "text"
      },
      "source": [
        "## What do you want to learn more about in Jupyter Notebooks?"
      ]
    },
    {
      "cell_type": "markdown",
      "metadata": {
        "id": "XfUj1VIXvV3E",
        "colab_type": "text"
      },
      "source": [
        "I really want to figure out how to create and code certain colors onto a web page. I also want to figure out how to create links that go to other pages within the site."
      ]
    },
    {
      "cell_type": "markdown",
      "metadata": {
        "id": "JzyM8vmLvfOW",
        "colab_type": "text"
      },
      "source": [
        "![Green color palette](https://raw.githubusercontent.com/rachel-asd/PracticeWithWebDesign/master/Images/Color%20Hunt%20Palette%2063955.png)"
      ]
    }
  ]
}